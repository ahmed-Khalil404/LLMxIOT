{
 "cells": [
  {
   "cell_type": "code",
   "execution_count": 18,
   "metadata": {},
   "outputs": [
    {
     "name": "stdout",
     "output_type": "stream",
     "text": [
      "  Sure thing! Here's the list of devices I can control:\n",
      "\n",
      "* Smart TV (on/off)\n",
      "* Smart Light (on/off)\n",
      "* Smart Speaker (volume up/down)\n",
      "\n",
      "As you've requested, I won't send any commands unless you specifically tell me to do so.\n",
      "\n",
      "Now, if you're ready to go to sleep, I can turn off all the devices for you. Here are the commands I'll be sending:\n",
      "\n",
      "{turn off smart TV}\n",
      "{turn off smart light}\n",
      "{set smart speaker volume to minimum}\n",
      "\n",
      "Please let me know if there's anything else I can help with before you go to sleep!None\n"
     ]
    }
   ],
   "source": [
    "import requests\n",
    "import json\n",
    "\n",
    "def send_request(prompt):\n",
    "    url = \"http://localhost:11434/api/generate\"\n",
    "    data = {\n",
    "        \"model\": \"modelkhalil:latest\",\n",
    "        \"prompt\": prompt\n",
    "    }\n",
    "\n",
    "    headers = {'Content-Type': 'application/json'}\n",
    "\n",
    "    response = requests.post(url, data=json.dumps(data), headers=headers, stream=True)\n",
    "\n",
    "    if response.status_code != 200:\n",
    "        print(\"Error:\", response.status_code, response.text)\n",
    "        return\n",
    "\n",
    "    for line in response.iter_lines():\n",
    "        if line:\n",
    "            decoded_line = line.decode('utf-8')\n",
    "            json_data = json.loads(decoded_line)\n",
    "            print(json_data[\"response\"], end='', flush=True)  # Print each part of the response as it arrives\n",
    "            if json_data[\"done\"]:\n",
    "                break\n",
    "\n",
    "\n",
    "\n",
    "if __name__ == \"__main__\":\n",
    "    prompt = input(\"Enter your prompt: \")\n",
    "    response = send_request(prompt)\n",
    "    print(response)\n"
   ]
  }
 ],
 "metadata": {
  "kernelspec": {
   "display_name": "Python 3",
   "language": "python",
   "name": "python3"
  },
  "language_info": {
   "codemirror_mode": {
    "name": "ipython",
    "version": 3
   },
   "file_extension": ".py",
   "mimetype": "text/x-python",
   "name": "python",
   "nbconvert_exporter": "python",
   "pygments_lexer": "ipython3",
   "version": "3.10.12"
  }
 },
 "nbformat": 4,
 "nbformat_minor": 2
}
